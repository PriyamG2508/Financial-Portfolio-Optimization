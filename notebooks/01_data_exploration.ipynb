{
 "cells": [
  {
   "cell_type": "code",
   "execution_count": null,
   "id": "37d7c872",
   "metadata": {},
   "outputs": [],
   "source": [
    "pip install kaleido"
   ]
  },
  {
   "cell_type": "code",
   "execution_count": 2,
   "id": "9c045e6a",
   "metadata": {},
   "outputs": [],
   "source": [
    "import pandas as pd\n",
    "import numpy as np\n",
    "import matplotlib.pyplot as plt\n",
    "import seaborn as sns\n",
    "import plotly.express as px\n"
   ]
  },
  {
   "cell_type": "code",
   "execution_count": 3,
   "id": "cf938f51",
   "metadata": {},
   "outputs": [],
   "source": [
    "sns.set_style(\"darkgrid\")  \n",
    "sns.set_context(\"notebook\")\n"
   ]
  },
  {
   "cell_type": "code",
   "execution_count": 4,
   "id": "c6c83258",
   "metadata": {},
   "outputs": [],
   "source": [
    "# Load returns data\n",
    "returns_df = pd.read_csv('../data/processed/returns.csv', parse_dates=['Date'])\n",
    "returns_df.set_index('Date', inplace=True)\n"
   ]
  },
  {
   "cell_type": "code",
   "execution_count": 5,
   "id": "fd42471e",
   "metadata": {},
   "outputs": [],
   "source": [
    "returns_df = pd.read_csv('../data/processed/returns.csv', parse_dates=['Date'])\n",
    "returns_df.set_index('Date', inplace=True)"
   ]
  },
  {
   "cell_type": "code",
   "execution_count": null,
   "id": "e959b4ab",
   "metadata": {},
   "outputs": [],
   "source": [
    "returns_df.head()"
   ]
  },
  {
   "cell_type": "code",
   "execution_count": null,
   "id": "c26ce8a7",
   "metadata": {},
   "outputs": [],
   "source": [
    "returns_df.info()"
   ]
  },
  {
   "cell_type": "code",
   "execution_count": null,
   "id": "29e2dafd",
   "metadata": {},
   "outputs": [],
   "source": [
    "returns_df.describe()"
   ]
  },
  {
   "cell_type": "code",
   "execution_count": null,
   "id": "de894976",
   "metadata": {},
   "outputs": [],
   "source": [
    "returns_df.corr()"
   ]
  },
  {
   "cell_type": "code",
   "execution_count": null,
   "id": "3f472a3e",
   "metadata": {},
   "outputs": [],
   "source": [
    "# Cumulative returns \n",
    "# Shows how the portfolio grows if you held each stock\n",
    "\n",
    "cumulative_returns = (1 + returns_df).cumprod()\n",
    "\n",
    "fig = px.line(\n",
    "    cumulative_returns,\n",
    "    title='📈 Cumulative Returns of Selected Stocks',\n",
    "    labels={'value': 'Cumulative Return', 'index': 'Date', 'variable': 'Ticker'},\n",
    "    template='plotly_dark',  # Optional themes: 'plotly_white', 'ggplot2', 'seaborn', etc.\n",
    "    height=600\n",
    ")\n",
    "\n",
    "# Fine-tune layout\n",
    "fig.update_layout(\n",
    "    title_font_size=22,\n",
    "    xaxis_title='Date',\n",
    "    yaxis_title='Cumulative Return',\n",
    "    legend_title='Ticker',\n",
    "    hovermode='x unified',\n",
    "    margin=dict(l=50, r=30, t=80, b=50)\n",
    ")\n",
    "\n",
    "fig.show()\n",
    "fig.write_html(\"returns_from_the_stocks.html\")"
   ]
  },
  {
   "cell_type": "code",
   "execution_count": null,
   "id": "568fbdd8",
   "metadata": {},
   "outputs": [],
   "source": [
    "# Measure how risky each stock is \n",
    "# Calculate volatility\n",
    "volatility = returns_df.std() * np.sqrt(252)\n",
    "\n",
    "# Convert to DataFrame for Plotly\n",
    "vol_df = volatility.sort_values(ascending=False).reset_index()\n",
    "vol_df.columns = ['Ticker', 'Volatility']\n",
    "\n",
    "# Plot\n",
    "fig = px.bar(\n",
    "    vol_df,\n",
    "    x='Ticker',\n",
    "    y='Volatility',\n",
    "    title='Annualized Volatility',\n",
    "    color='Volatility',\n",
    "    template='plotly_dark',\n",
    "    height=500\n",
    ")\n",
    "fig.show()\n",
    "fig.write_html(\"Stock risks (Annualized Volatility).html\")\n"
   ]
  },
  {
   "cell_type": "code",
   "execution_count": null,
   "id": "17994893",
   "metadata": {},
   "outputs": [],
   "source": [
    "\n",
    "# Compute correlation matrix\n",
    "corr_matrix = returns_df.corr().round(2)\n",
    "\n",
    "fig = px.imshow(\n",
    "    corr_matrix,\n",
    "    text_auto=True,\n",
    "    color_continuous_scale='plasma',\n",
    "    zmin=-1,\n",
    "    zmax=1,\n",
    "    aspect='auto',  # 'auto' adjusts based on figure size\n",
    "    title='Correlation Matrix of Stock Returns'\n",
    ")\n",
    "\n",
    "# Update layout\n",
    "fig.update_layout(\n",
    "    template='plotly_dark',\n",
    "    title_font_size=22,\n",
    "    height=700,\n",
    "    margin=dict(l=60, r=60, t=80, b=60)\n",
    ")\n",
    "fig.write_html(\"correlation_matrix_of_stocks_returns.html\")\n",
    "\n",
    "fig.show()"
   ]
  },
  {
   "cell_type": "code",
   "execution_count": null,
   "id": "50413677",
   "metadata": {},
   "outputs": [],
   "source": [
    "mean_returns = returns_df.mean() * 252\n",
    "volatility = returns_df.std() * np.sqrt(252)\n",
    "\n",
    "risk_return_df = pd.DataFrame({\n",
    "    'Ticker': returns_df.columns,\n",
    "    'Return': mean_returns,\n",
    "    'Risk': volatility\n",
    "})\n",
    "\n",
    "fig = px.scatter(risk_return_df, x='Risk', y='Return', text='Ticker',\n",
    "                 title='Risk vs Return',\n",
    "                 template='plotly_dark',\n",
    "                 hover_data=['Ticker'],\n",
    "                 size='Risk',  # Increase size based on distance\n",
    "                 color='Risk',  # Different colors based on distance\n",
    "                 size_max=30)\n",
    "fig.update_traces(textposition='top center')\n",
    "fig.show()\n",
    "fig.write_html(\"risk_return_plot.html\")\n"
   ]
  }
 ],
 "metadata": {
  "kernelspec": {
   "display_name": "Python 3",
   "language": "python",
   "name": "python3"
  },
  "language_info": {
   "codemirror_mode": {
    "name": "ipython",
    "version": 3
   },
   "file_extension": ".py",
   "mimetype": "text/x-python",
   "name": "python",
   "nbconvert_exporter": "python",
   "pygments_lexer": "ipython3",
   "version": "3.12.3"
  }
 },
 "nbformat": 4,
 "nbformat_minor": 5
}
